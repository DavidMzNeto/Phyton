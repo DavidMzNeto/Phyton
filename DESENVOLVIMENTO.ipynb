{
  "nbformat": 4,
  "nbformat_minor": 0,
  "metadata": {
    "colab": {
      "provenance": [],
      "authorship_tag": "ABX9TyNo/WR4/rnkA2dEAtMxJRA2",
      "include_colab_link": true
    },
    "kernelspec": {
      "name": "python3",
      "display_name": "Python 3"
    },
    "language_info": {
      "name": "python"
    }
  },
  "cells": [
    {
      "cell_type": "markdown",
      "metadata": {
        "id": "view-in-github",
        "colab_type": "text"
      },
      "source": [
        "<a href=\"https://colab.research.google.com/github/DavidMzNeto/Phyton/blob/main/DESENVOLVIMENTO.ipynb\" target=\"_parent\"><img src=\"https://colab.research.google.com/assets/colab-badge.svg\" alt=\"Open In Colab\"/></a>"
      ]
    },
    {
      "cell_type": "code",
      "execution_count": 3,
      "metadata": {
        "colab": {
          "base_uri": "https://localhost:8080/"
        },
        "id": "nKzJR-FVmDiQ",
        "outputId": "2a559ce5-1d5a-4255-88a5-f4306491c2dd"
      },
      "outputs": [
        {
          "output_type": "stream",
          "name": "stdout",
          "text": [
            "['Arroz', 'Feijão', 'Batata', 'Linguiça', 'Rabanete']\n",
            "[2004, 2006, 2002, 1974, 1966]\n"
          ]
        }
      ],
      "source": [
        "a = [\"Arroz\", \"Feijão\", \"Batata\",\"Linguiça\",\"Rabanete\"];\n",
        "b = [2004, 2006 ,2002 , 1974, 1966];\n",
        "print(a);\n",
        "print(b);"
      ]
    }
  ]
}